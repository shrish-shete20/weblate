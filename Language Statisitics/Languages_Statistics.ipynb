{
 "cells": [
  {
   "cell_type": "code",
   "execution_count": 16,
   "id": "e8d0a3c5",
   "metadata": {},
   "outputs": [
    {
     "name": "stdout",
     "output_type": "stream",
     "text": [
      "Requirement already satisfied: wlc in c:\\users\\shrish\\anaconda3\\lib\\site-packages (1.13)\n",
      "Requirement already satisfied: pyxdg in c:\\users\\shrish\\anaconda3\\lib\\site-packages (from wlc) (0.28)\n",
      "Requirement already satisfied: python-dateutil in c:\\users\\shrish\\anaconda3\\lib\\site-packages (from wlc) (2.8.2)\n",
      "Requirement already satisfied: requests in c:\\users\\shrish\\anaconda3\\lib\\site-packages (from wlc) (2.28.1)\n",
      "Requirement already satisfied: argcomplete in c:\\users\\shrish\\anaconda3\\lib\\site-packages (from wlc) (3.0.8)\n",
      "Requirement already satisfied: six>=1.5 in c:\\users\\shrish\\anaconda3\\lib\\site-packages (from python-dateutil->wlc) (1.16.0)\n",
      "Requirement already satisfied: idna<4,>=2.5 in c:\\users\\shrish\\anaconda3\\lib\\site-packages (from requests->wlc) (3.3)\n",
      "Requirement already satisfied: urllib3<1.27,>=1.21.1 in c:\\users\\shrish\\anaconda3\\lib\\site-packages (from requests->wlc) (1.26.11)\n",
      "Requirement already satisfied: charset-normalizer<3,>=2 in c:\\users\\shrish\\anaconda3\\lib\\site-packages (from requests->wlc) (2.0.4)\n",
      "Requirement already satisfied: certifi>=2017.4.17 in c:\\users\\shrish\\anaconda3\\lib\\site-packages (from requests->wlc) (2022.9.14)\n",
      "Note: you may need to restart the kernel to use updated packages.\n"
     ]
    }
   ],
   "source": [
    "pip install wlc\n"
   ]
  },
  {
   "cell_type": "code",
   "execution_count": 17,
   "id": "e0128c18",
   "metadata": {},
   "outputs": [],
   "source": [
    "import wlc\n",
    "import csv"
   ]
  },
  {
   "cell_type": "code",
   "execution_count": 18,
   "id": "1c5e6177",
   "metadata": {},
   "outputs": [],
   "source": [
    "instance = wlc.Weblate(\"wlu_U8k6Kk12pyhXuBeXOP6imHRFiPrUMwHgHari\",url=\"https://translate.rx.studio/api/\")"
   ]
  },
  {
   "cell_type": "code",
   "execution_count": 19,
   "id": "3652630b",
   "metadata": {},
   "outputs": [],
   "source": [
    "lang_all=instance.get(\"languages/\")"
   ]
  },
  {
   "cell_type": "code",
   "execution_count": 20,
   "id": "3e7b10e3",
   "metadata": {},
   "outputs": [
    {
     "name": "stdout",
     "output_type": "stream",
     "text": [
      "26\n"
     ]
    }
   ],
   "source": [
    "lang=lang_all.get(\"results\")\n",
    "count=lang_all.get(\"count\")\n",
    "print(count)"
   ]
  },
  {
   "cell_type": "code",
   "execution_count": 21,
   "id": "e680f511",
   "metadata": {},
   "outputs": [],
   "source": [
    "data=[[\"Name\",\"Code\",\"Population\",\"Total Words\",\"Last Change\",\"Translated\",\"Fuzzy\",\"Untranslated\"]]"
   ]
  },
  {
   "cell_type": "code",
   "execution_count": 22,
   "id": "73d75838",
   "metadata": {},
   "outputs": [
    {
     "name": "stdout",
     "output_type": "stream",
     "text": [
      "['Arabic', 'Bengali', 'Danish', 'German', 'English', 'English (United Kingdom)', 'Spanish', 'Persian', 'French', 'Hindi', 'Hungarian', 'Indonesian', 'Italian', 'Japanese', 'Korean', 'Lithuanian', 'Nepali', 'Norwegian Nynorsk', 'Polish', 'Portuguese (Brazil)', 'Russian', 'Albanian', 'Turkish', 'Urdu', 'Chinese (Simplified)', 'Chinese (Traditional)']\n"
     ]
    }
   ],
   "source": [
    "name = list(range(count))\n",
    "for i in range(count):\n",
    "    name[i]=lang[i].get(\"name\")\n",
    "print(name)"
   ]
  },
  {
   "cell_type": "code",
   "execution_count": 23,
   "id": "82f2209f",
   "metadata": {},
   "outputs": [
    {
     "name": "stdout",
     "output_type": "stream",
     "text": [
      "[351664195, 267193288, 7072056, 136350226, 1636485035, 64445878, 493528078, 84710458, 278611506, 545556054, 12443429, 171207687, 70247059, 119729025, 78357047, 2488617, 20903374, 1366860, 41077398, 192661560, 195841151, 6791906, 80360705, 290790290, 1266066359, 38612556]\n"
     ]
    }
   ],
   "source": [
    "pop=list(range(count))\n",
    "for i in range(count):\n",
    "    pop[i]=lang[i].get(\"population\")\n",
    "print(pop)"
   ]
  },
  {
   "cell_type": "code",
   "execution_count": 24,
   "id": "f4c69139",
   "metadata": {},
   "outputs": [
    {
     "name": "stdout",
     "output_type": "stream",
     "text": [
      "['ar', 'bn', 'da', 'de', 'en', 'en_GB', 'es', 'fa', 'fr', 'hi', 'hu', 'id', 'it', 'ja', 'ko', 'lt', 'ne', 'nn', 'pl', 'pt_BR', 'ru', 'sq', 'tr', 'ur', 'zh_Hans', 'zh_Hant']\n"
     ]
    }
   ],
   "source": [
    "code=list(range(count))\n",
    "for i in range(count):\n",
    "    code[i]=lang[i].get(\"code\")\n",
    "print(code)"
   ]
  },
  {
   "cell_type": "code",
   "execution_count": 25,
   "id": "6270e938",
   "metadata": {},
   "outputs": [
    {
     "name": "stdout",
     "output_type": "stream",
     "text": [
      "[0, 1, 471, 212, 0, 0, 372, 9, 40, 3, 0, 0, 0, 361, 199, 86, 0, 539, 226, 972, 74, 0, 532, 0, 444, 220]\n",
      "[4807, 823, 3558, 255, 0, 1807, 1630, 2631, 18, 496, 587, 586, 1, 382, 1169, 103, 607, 217, 270, 926, 99, 1100, 1882, 586, 460, 278]\n"
     ]
    }
   ],
   "source": [
    "total=list(range(count))\n",
    "last_change=list(range(count))\n",
    "char=\"T\"\n",
    "translated=list(range(count))\n",
    "fuzzy=list(range(count))\n",
    "untranslated=list(range(count))\n",
    "i=0\n",
    "for co in code:\n",
    "    link=\"languages/\"\n",
    "    link+=co\n",
    "    link+=\"/statistics/\"\n",
    "    languages=instance.get(link)\n",
    "    total[i]=languages.get(\"total\")\n",
    "    last_change[i]=languages.get(\"last_change\")\n",
    "    if(last_change[i]!=None):\n",
    "        index=last_change[i].find(char)\n",
    "        last_change[i]=last_change[i][:index]\n",
    "    translated[i]=languages.get(\"translated\")\n",
    "    fuzzy[i]=languages.get(\"fuzzy\")\n",
    "    untranslated[i]=total[i]-translated[i]-fuzzy[i]\n",
    "    i+=1\n",
    "print(fuzzy)\n",
    "\n",
    "print(untranslated)"
   ]
  },
  {
   "cell_type": "code",
   "execution_count": 26,
   "id": "c2bf105a",
   "metadata": {},
   "outputs": [],
   "source": [
    "\n",
    "for i in range(count):\n",
    "    v=[]\n",
    "    v.append(name[i])\n",
    "    v.append(code[i])\n",
    "    v.append(pop[i])\n",
    "    v.append(total[i])\n",
    "    v.append(last_change[i])\n",
    "    v.append(translated[i])\n",
    "    v.append(fuzzy[i])\n",
    "    v.append(untranslated[i])\n",
    "    data.append(v)\n",
    "    "
   ]
  },
  {
   "cell_type": "code",
   "execution_count": 27,
   "id": "bfe4da61",
   "metadata": {},
   "outputs": [
    {
     "name": "stdout",
     "output_type": "stream",
     "text": [
      "[['Name', 'Code', 'Population', 'Total Words', 'Last Change', 'Translated', 'Fuzzy', 'Untranslated'], ['Arabic', 'ar', 351664195, 4807, None, 0, 0, 4807], ['Bengali', 'bn', 267193288, 861, '2023-04-05', 37, 1, 823], ['Danish', 'da', 7072056, 5807, '2022-05-26', 1778, 471, 3558], ['German', 'de', 136350226, 5866, '2023-02-21', 5399, 212, 255], ['English', 'en', 1636485035, 6694, None, 6694, 0, 0], ['English (United Kingdom)', 'en_GB', 64445878, 1982, '2023-05-15', 175, 0, 1807], ['Spanish', 'es', 493528078, 4095, '2023-06-06', 2093, 372, 1630], ['Persian', 'fa', 84710458, 2906, '2022-05-26', 266, 9, 2631], ['French', 'fr', 278611506, 5866, '2023-04-13', 5808, 40, 18], ['Hindi', 'hi', 545556054, 873, '2023-06-04', 374, 3, 496], ['Hungarian', 'hu', 12443429, 591, '2023-04-06', 4, 0, 587], ['Indonesian', 'id', 171207687, 587, '2023-02-01', 1, 0, 586], ['Italian', 'it', 70247059, 5984, '2022-08-30', 5983, 0, 1], ['Japanese', 'ja', 119729025, 5748, '2022-05-26', 5005, 361, 382], ['Korean', 'ko', 78357047, 5866, '2022-10-01', 4498, 199, 1169], ['Lithuanian', 'lt', 2488617, 5866, '2022-05-26', 5677, 86, 103], ['Nepali', 'ne', 20903374, 889, '2023-05-06', 282, 0, 607], ['Norwegian Nynorsk', 'nn', 1366860, 2622, '2022-05-26', 1866, 539, 217], ['Polish', 'pl', 41077398, 5866, '2022-05-26', 5370, 226, 270], ['Portuguese (Brazil)', 'pt_BR', 192661560, 5894, '2023-04-16', 3996, 972, 926], ['Russian', 'ru', 195841151, 5866, '2022-05-26', 5693, 74, 99], ['Albanian', 'sq', 6791906, 1170, '2022-08-30', 70, 0, 1100], ['Turkish', 'tr', 80360705, 4260, '2022-05-26', 1846, 532, 1882], ['Urdu', 'ur', 290790290, 587, '2023-02-01', 1, 0, 586], ['Chinese (Simplified)', 'zh_Hans', 1266066359, 5810, '2023-03-08', 4906, 444, 460], ['Chinese (Traditional)', 'zh_Hant', 38612556, 5866, '2022-05-26', 5368, 220, 278]]\n"
     ]
    }
   ],
   "source": [
    "print(data)"
   ]
  },
  {
   "cell_type": "code",
   "execution_count": 28,
   "id": "dae69d3c",
   "metadata": {},
   "outputs": [],
   "source": [
    "filename = 'Language_Statistics.csv'\n",
    "\n",
    "# Open the CSV file in write mode\n",
    "with open(filename, 'w', newline='') as file:\n",
    "    # Create a CSV writer object\n",
    "    writer = csv.writer(file)\n",
    "\n",
    "    # Write the data to the CSV file\n",
    "    writer.writerows(data)"
   ]
  },
  {
   "cell_type": "code",
   "execution_count": null,
   "id": "0ac3e5dd",
   "metadata": {},
   "outputs": [],
   "source": []
  },
  {
   "cell_type": "code",
   "execution_count": null,
   "id": "97332a8e",
   "metadata": {},
   "outputs": [],
   "source": []
  },
  {
   "cell_type": "code",
   "execution_count": null,
   "id": "ee659b00",
   "metadata": {},
   "outputs": [],
   "source": []
  },
  {
   "cell_type": "code",
   "execution_count": null,
   "id": "aa62a8fc",
   "metadata": {},
   "outputs": [],
   "source": []
  },
  {
   "cell_type": "code",
   "execution_count": null,
   "id": "b2b2c0de",
   "metadata": {},
   "outputs": [],
   "source": []
  },
  {
   "cell_type": "code",
   "execution_count": null,
   "id": "259ea54b",
   "metadata": {},
   "outputs": [],
   "source": []
  },
  {
   "cell_type": "code",
   "execution_count": null,
   "id": "dd4f6a9c",
   "metadata": {},
   "outputs": [],
   "source": []
  },
  {
   "cell_type": "code",
   "execution_count": null,
   "id": "6248bb98",
   "metadata": {},
   "outputs": [],
   "source": []
  },
  {
   "cell_type": "code",
   "execution_count": null,
   "id": "800de841",
   "metadata": {},
   "outputs": [],
   "source": []
  }
 ],
 "metadata": {
  "kernelspec": {
   "display_name": "Python 3 (ipykernel)",
   "language": "python",
   "name": "python3"
  },
  "language_info": {
   "codemirror_mode": {
    "name": "ipython",
    "version": 3
   },
   "file_extension": ".py",
   "mimetype": "text/x-python",
   "name": "python",
   "nbconvert_exporter": "python",
   "pygments_lexer": "ipython3",
   "version": "3.9.13"
  }
 },
 "nbformat": 4,
 "nbformat_minor": 5
}
