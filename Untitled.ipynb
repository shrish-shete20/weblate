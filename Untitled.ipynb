{
 "cells": [
  {
   "cell_type": "code",
   "execution_count": 25,
   "id": "a606825a",
   "metadata": {},
   "outputs": [
    {
     "name": "stdout",
     "output_type": "stream",
     "text": [
      "Requirement already satisfied: wlc in c:\\users\\shrish\\anaconda3\\lib\\site-packages (1.13)\n",
      "Requirement already satisfied: pyxdg in c:\\users\\shrish\\anaconda3\\lib\\site-packages (from wlc) (0.28)\n",
      "Requirement already satisfied: argcomplete in c:\\users\\shrish\\anaconda3\\lib\\site-packages (from wlc) (3.0.8)\n",
      "Requirement already satisfied: python-dateutil in c:\\users\\shrish\\anaconda3\\lib\\site-packages (from wlc) (2.8.2)\n",
      "Requirement already satisfied: requests in c:\\users\\shrish\\anaconda3\\lib\\site-packages (from wlc) (2.28.1)\n",
      "Requirement already satisfied: six>=1.5 in c:\\users\\shrish\\anaconda3\\lib\\site-packages (from python-dateutil->wlc) (1.16.0)\n",
      "Requirement already satisfied: idna<4,>=2.5 in c:\\users\\shrish\\anaconda3\\lib\\site-packages (from requests->wlc) (3.3)\n",
      "Requirement already satisfied: certifi>=2017.4.17 in c:\\users\\shrish\\anaconda3\\lib\\site-packages (from requests->wlc) (2022.9.14)\n",
      "Requirement already satisfied: urllib3<1.27,>=1.21.1 in c:\\users\\shrish\\anaconda3\\lib\\site-packages (from requests->wlc) (1.26.11)\n",
      "Requirement already satisfied: charset-normalizer<3,>=2 in c:\\users\\shrish\\anaconda3\\lib\\site-packages (from requests->wlc) (2.0.4)\n",
      "Note: you may need to restart the kernel to use updated packages.\n"
     ]
    }
   ],
   "source": [
    "pip install wlc\n"
   ]
  },
  {
   "cell_type": "code",
   "execution_count": 26,
   "id": "a5563595",
   "metadata": {},
   "outputs": [],
   "source": [
    "import wlc\n",
    "import csv"
   ]
  },
  {
   "cell_type": "code",
   "execution_count": 27,
   "id": "c4f07f81",
   "metadata": {},
   "outputs": [],
   "source": [
    "instance = wlc.Weblate(\"wlu_1aZ1x8D7sNZwnXDWXoMOX93v1Q5lWQboye2L\",url=\"https://translate.rx.studio/api/\")"
   ]
  },
  {
   "cell_type": "code",
   "execution_count": 28,
   "id": "004cc34d",
   "metadata": {},
   "outputs": [],
   "source": [
    "lang_all=instance.get(\"languages/\")"
   ]
  },
  {
   "cell_type": "code",
   "execution_count": 29,
   "id": "0bff22c3",
   "metadata": {},
   "outputs": [
    {
     "name": "stdout",
     "output_type": "stream",
     "text": [
      "26\n"
     ]
    }
   ],
   "source": [
    "lang=lang_all.get(\"results\")\n",
    "count=lang_all.get(\"count\")\n",
    "print(count)"
   ]
  },
  {
   "cell_type": "code",
   "execution_count": 30,
   "id": "d99e4b1e",
   "metadata": {},
   "outputs": [],
   "source": [
    "data=[[\"Name\",\"Code\",\"Total Words\",\"Last Change\",\"Translated\",\"Fuzzy\",\"Untranslated\"]]"
   ]
  },
  {
   "cell_type": "code",
   "execution_count": 31,
   "id": "155ecb00",
   "metadata": {},
   "outputs": [
    {
     "name": "stdout",
     "output_type": "stream",
     "text": [
      "['Arabic', 'Bengali', 'Danish', 'German', 'English', 'English (United Kingdom)', 'Spanish', 'Persian', 'French', 'Hindi', 'Hungarian', 'Indonesian', 'Italian', 'Japanese', 'Korean', 'Lithuanian', 'Nepali', 'Norwegian Nynorsk', 'Polish', 'Portuguese (Brazil)', 'Russian', 'Albanian', 'Turkish', 'Urdu', 'Chinese (Simplified)', 'Chinese (Traditional)']\n"
     ]
    }
   ],
   "source": [
    "name = list(range(count))\n",
    "for i in range(count):\n",
    "    name[i]=lang[i].get(\"name\")\n",
    "print(name)"
   ]
  },
  {
   "cell_type": "code",
   "execution_count": 32,
   "id": "83c8eca7",
   "metadata": {},
   "outputs": [
    {
     "name": "stdout",
     "output_type": "stream",
     "text": [
      "[351664195, 267193288, 7072056, 136350226, 1636485035, 64445878, 493528078, 84710458, 278611506, 545556054, 12443429, 171207687, 70247059, 119729025, 78357047, 2488617, 20903374, 1366860, 41077398, 192661560, 195841151, 6791906, 80360705, 290790290, 1266066359, 38612556]\n"
     ]
    }
   ],
   "source": [
    "pop=list(range(count))\n",
    "for i in range(count):\n",
    "    pop[i]=lang[i].get(\"population\")\n",
    "print(pop)"
   ]
  },
  {
   "cell_type": "code",
   "execution_count": 33,
   "id": "6c2ab6f9",
   "metadata": {},
   "outputs": [
    {
     "name": "stdout",
     "output_type": "stream",
     "text": [
      "['ar', 'bn', 'da', 'de', 'en', 'en_GB', 'es', 'fa', 'fr', 'hi', 'hu', 'id', 'it', 'ja', 'ko', 'lt', 'ne', 'nn', 'pl', 'pt_BR', 'ru', 'sq', 'tr', 'ur', 'zh_Hans', 'zh_Hant']\n"
     ]
    }
   ],
   "source": [
    "code=list(range(count))\n",
    "for i in range(count):\n",
    "    code[i]=lang[i].get(\"code\")\n",
    "print(code)"
   ]
  },
  {
   "cell_type": "code",
   "execution_count": 34,
   "id": "8f3ec3bc",
   "metadata": {},
   "outputs": [
    {
     "name": "stdout",
     "output_type": "stream",
     "text": [
      "[0, 1, 471, 212, 0, 0, 372, 9, 40, 3, 0, 0, 0, 361, 199, 86, 0, 539, 226, 972, 74, 0, 532, 0, 444, 220]\n",
      "[4807, 823, 3558, 255, 0, 1807, 1637, 2631, 18, 497, 587, 586, 1, 382, 1169, 103, 607, 217, 270, 926, 99, 1100, 1882, 586, 460, 278]\n"
     ]
    }
   ],
   "source": [
    "total=list(range(count))\n",
    "last_change=list(range(count))\n",
    "char=\"T\"\n",
    "translated=list(range(count))\n",
    "fuzzy=list(range(count))\n",
    "untranslated=list(range(count))\n",
    "i=0\n",
    "for co in code:\n",
    "    link=\"languages/\"\n",
    "    link+=co\n",
    "    link+=\"/statistics/\"\n",
    "    languages=instance.get(link)\n",
    "    total[i]=languages.get(\"total\")\n",
    "    last_change[i]=languages.get(\"last_change\")\n",
    "    if(last_change[i]!=None):\n",
    "        index=last_change[i].find(char)\n",
    "        last_change[i]=last_change[i][:index]\n",
    "    translated[i]=languages.get(\"translated\")\n",
    "    fuzzy[i]=languages.get(\"fuzzy\")\n",
    "    untranslated[i]=total[i]-translated[i]-fuzzy[i]\n",
    "    i+=1\n",
    "print(fuzzy)\n",
    "\n",
    "print(untranslated)"
   ]
  },
  {
   "cell_type": "code",
   "execution_count": 35,
   "id": "21b519e8",
   "metadata": {},
   "outputs": [],
   "source": [
    "\n",
    "for i in range(count):\n",
    "    v=[]\n",
    "    v.append(name[i])\n",
    "    v.append(code[i])\n",
    "    v.append(total[i])\n",
    "    v.append(last_change[i])\n",
    "    v.append(translated[i])\n",
    "    v.append(fuzzy[i])\n",
    "    v.append(untranslated[i])\n",
    "    data.append(v)\n",
    "    "
   ]
  },
  {
   "cell_type": "code",
   "execution_count": 36,
   "id": "0e65dae3",
   "metadata": {},
   "outputs": [
    {
     "name": "stdout",
     "output_type": "stream",
     "text": [
      "[['Name', 'Code', 'Total Words', 'Last Change', 'Translated', 'Fuzzy', 'Untranslated'], ['Arabic', 'ar', 4807, None, 0, 0, 4807], ['Bengali', 'bn', 861, '2023-04-05', 37, 1, 823], ['Danish', 'da', 5807, '2022-05-26', 1778, 471, 3558], ['German', 'de', 5866, '2023-02-21', 5399, 212, 255], ['English', 'en', 6694, None, 6694, 0, 0], ['English (United Kingdom)', 'en_GB', 1982, '2023-05-15', 175, 0, 1807], ['Spanish', 'es', 4095, '2023-05-16', 2086, 372, 1637], ['Persian', 'fa', 2906, '2022-05-26', 266, 9, 2631], ['French', 'fr', 5866, '2023-04-13', 5808, 40, 18], ['Hindi', 'hi', 873, '2023-04-10', 373, 3, 497], ['Hungarian', 'hu', 591, '2023-04-06', 4, 0, 587], ['Indonesian', 'id', 587, '2023-02-01', 1, 0, 586], ['Italian', 'it', 5984, '2022-08-30', 5983, 0, 1], ['Japanese', 'ja', 5748, '2022-05-26', 5005, 361, 382], ['Korean', 'ko', 5866, '2022-10-01', 4498, 199, 1169], ['Lithuanian', 'lt', 5866, '2022-05-26', 5677, 86, 103], ['Nepali', 'ne', 889, '2023-05-06', 282, 0, 607], ['Norwegian Nynorsk', 'nn', 2622, '2022-05-26', 1866, 539, 217], ['Polish', 'pl', 5866, '2022-05-26', 5370, 226, 270], ['Portuguese (Brazil)', 'pt_BR', 5894, '2023-04-16', 3996, 972, 926], ['Russian', 'ru', 5866, '2022-05-26', 5693, 74, 99], ['Albanian', 'sq', 1170, '2022-08-30', 70, 0, 1100], ['Turkish', 'tr', 4260, '2022-05-26', 1846, 532, 1882], ['Urdu', 'ur', 587, '2023-02-01', 1, 0, 586], ['Chinese (Simplified)', 'zh_Hans', 5810, '2023-03-08', 4906, 444, 460], ['Chinese (Traditional)', 'zh_Hant', 5866, '2022-05-26', 5368, 220, 278]]\n"
     ]
    }
   ],
   "source": [
    "print(data)"
   ]
  },
  {
   "cell_type": "code",
   "execution_count": 37,
   "id": "4e499c87",
   "metadata": {},
   "outputs": [],
   "source": [
    "filename = 'Language_Statistics.csv'\n",
    "\n",
    "# Open the CSV file in write mode\n",
    "with open(filename, 'w', newline='') as file:\n",
    "    # Create a CSV writer object\n",
    "    writer = csv.writer(file)\n",
    "\n",
    "    # Write the data to the CSV file\n",
    "    writer.writerows(data)"
   ]
  },
  {
   "cell_type": "code",
   "execution_count": null,
   "id": "2440d3e6",
   "metadata": {},
   "outputs": [],
   "source": []
  },
  {
   "cell_type": "code",
   "execution_count": null,
   "id": "65551a0f",
   "metadata": {},
   "outputs": [],
   "source": []
  },
  {
   "cell_type": "code",
   "execution_count": null,
   "id": "d86f5631",
   "metadata": {},
   "outputs": [],
   "source": []
  },
  {
   "cell_type": "code",
   "execution_count": null,
   "id": "cee9140d",
   "metadata": {},
   "outputs": [],
   "source": []
  },
  {
   "cell_type": "code",
   "execution_count": null,
   "id": "9ba26d59",
   "metadata": {},
   "outputs": [],
   "source": []
  },
  {
   "cell_type": "code",
   "execution_count": null,
   "id": "08985fa5",
   "metadata": {},
   "outputs": [],
   "source": []
  },
  {
   "cell_type": "code",
   "execution_count": null,
   "id": "82b8a0c3",
   "metadata": {},
   "outputs": [],
   "source": []
  },
  {
   "cell_type": "code",
   "execution_count": null,
   "id": "2033b37f",
   "metadata": {},
   "outputs": [],
   "source": []
  },
  {
   "cell_type": "code",
   "execution_count": null,
   "id": "423253e5",
   "metadata": {},
   "outputs": [],
   "source": []
  }
 ],
 "metadata": {
  "kernelspec": {
   "display_name": "Python 3 (ipykernel)",
   "language": "python",
   "name": "python3"
  },
  "language_info": {
   "codemirror_mode": {
    "name": "ipython",
    "version": 3
   },
   "file_extension": ".py",
   "mimetype": "text/x-python",
   "name": "python",
   "nbconvert_exporter": "python",
   "pygments_lexer": "ipython3",
   "version": "3.9.13"
  }
 },
 "nbformat": 4,
 "nbformat_minor": 5
}
