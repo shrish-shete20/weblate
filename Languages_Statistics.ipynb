{
 "cells": [
  {
   "cell_type": "code",
   "execution_count": null,
   "id": "e8d0a3c5",
   "metadata": {},
   "outputs": [],
   "source": [
    "pip install wlc\n"
   ]
  },
  {
   "cell_type": "code",
   "execution_count": 26,
   "id": "e0128c18",
   "metadata": {},
   "outputs": [],
   "source": [
    "import wlc\n",
    "import csv"
   ]
  },
  {
   "cell_type": "code",
   "execution_count": 27,
   "id": "1c5e6177",
   "metadata": {},
   "outputs": [],
   "source": [
    "instance = wlc.Weblate(\"wlu_1aZ1x8D7sNZwnXDWXoMOX93v1Q5lWQboye2L\",url=\"https://translate.rx.studio/api/\")"
   ]
  },
  {
   "cell_type": "code",
   "execution_count": 28,
   "id": "3652630b",
   "metadata": {},
   "outputs": [],
   "source": [
    "lang_all=instance.get(\"languages/\")"
   ]
  },
  {
   "cell_type": "code",
   "execution_count": null,
   "id": "3e7b10e3",
   "metadata": {},
   "outputs": [],
   "source": [
    "lang=lang_all.get(\"results\")\n",
    "count=lang_all.get(\"count\")\n",
    "print(count)"
   ]
  },
  {
   "cell_type": "code",
   "execution_count": 30,
   "id": "e680f511",
   "metadata": {},
   "outputs": [],
   "source": [
    "data=[[\"Name\",\"Code\",\"Total Words\",\"Last Change\",\"Translated\",\"Fuzzy\",\"Untranslated\"]]"
   ]
  },
  {
   "cell_type": "code",
   "execution_count": null,
   "id": "73d75838",
   "metadata": {},
   "outputs": [],
   "source": [
    "name = list(range(count))\n",
    "for i in range(count):\n",
    "    name[i]=lang[i].get(\"name\")\n",
    "print(name)"
   ]
  },
  {
   "cell_type": "code",
   "execution_count": null,
   "id": "82f2209f",
   "metadata": {},
   "outputs": [],
   "source": [
    "pop=list(range(count))\n",
    "for i in range(count):\n",
    "    pop[i]=lang[i].get(\"population\")\n",
    "print(pop)"
   ]
  },
  {
   "cell_type": "code",
   "execution_count": null,
   "id": "f4c69139",
   "metadata": {},
   "outputs": [],
   "source": [
    "code=list(range(count))\n",
    "for i in range(count):\n",
    "    code[i]=lang[i].get(\"code\")\n",
    "print(code)"
   ]
  },
  {
   "cell_type": "code",
   "execution_count": null,
   "id": "6270e938",
   "metadata": {},
   "outputs": [],
   "source": [
    "total=list(range(count))\n",
    "last_change=list(range(count))\n",
    "char=\"T\"\n",
    "translated=list(range(count))\n",
    "fuzzy=list(range(count))\n",
    "untranslated=list(range(count))\n",
    "i=0\n",
    "for co in code:\n",
    "    link=\"languages/\"\n",
    "    link+=co\n",
    "    link+=\"/statistics/\"\n",
    "    languages=instance.get(link)\n",
    "    total[i]=languages.get(\"total\")\n",
    "    last_change[i]=languages.get(\"last_change\")\n",
    "    if(last_change[i]!=None):\n",
    "        index=last_change[i].find(char)\n",
    "        last_change[i]=last_change[i][:index]\n",
    "    translated[i]=languages.get(\"translated\")\n",
    "    fuzzy[i]=languages.get(\"fuzzy\")\n",
    "    untranslated[i]=total[i]-translated[i]-fuzzy[i]\n",
    "    i+=1\n",
    "print(fuzzy)\n",
    "\n",
    "print(untranslated)"
   ]
  },
  {
   "cell_type": "code",
   "execution_count": 35,
   "id": "c2bf105a",
   "metadata": {},
   "outputs": [],
   "source": [
    "\n",
    "for i in range(count):\n",
    "    v=[]\n",
    "    v.append(name[i])\n",
    "    v.append(code[i])\n",
    "    v.append(total[i])\n",
    "    v.append(last_change[i])\n",
    "    v.append(translated[i])\n",
    "    v.append(fuzzy[i])\n",
    "    v.append(untranslated[i])\n",
    "    data.append(v)\n",
    "    "
   ]
  },
  {
   "cell_type": "code",
   "execution_count": null,
   "id": "bfe4da61",
   "metadata": {},
   "outputs": [],
   "source": [
    "print(data)"
   ]
  },
  {
   "cell_type": "code",
   "execution_count": 37,
   "id": "dae69d3c",
   "metadata": {},
   "outputs": [],
   "source": [
    "filename = 'Language_Statistics.csv'\n",
    "\n",
    "# Open the CSV file in write mode\n",
    "with open(filename, 'w', newline='') as file:\n",
    "    # Create a CSV writer object\n",
    "    writer = csv.writer(file)\n",
    "\n",
    "    # Write the data to the CSV file\n",
    "    writer.writerows(data)"
   ]
  },
  {
   "cell_type": "code",
   "execution_count": null,
   "id": "0ac3e5dd",
   "metadata": {},
   "outputs": [],
   "source": []
  },
  {
   "cell_type": "code",
   "execution_count": null,
   "id": "97332a8e",
   "metadata": {},
   "outputs": [],
   "source": []
  },
  {
   "cell_type": "code",
   "execution_count": null,
   "id": "ee659b00",
   "metadata": {},
   "outputs": [],
   "source": []
  },
  {
   "cell_type": "code",
   "execution_count": null,
   "id": "aa62a8fc",
   "metadata": {},
   "outputs": [],
   "source": []
  },
  {
   "cell_type": "code",
   "execution_count": null,
   "id": "b2b2c0de",
   "metadata": {},
   "outputs": [],
   "source": []
  },
  {
   "cell_type": "code",
   "execution_count": null,
   "id": "259ea54b",
   "metadata": {},
   "outputs": [],
   "source": []
  },
  {
   "cell_type": "code",
   "execution_count": null,
   "id": "dd4f6a9c",
   "metadata": {},
   "outputs": [],
   "source": []
  },
  {
   "cell_type": "code",
   "execution_count": null,
   "id": "6248bb98",
   "metadata": {},
   "outputs": [],
   "source": []
  },
  {
   "cell_type": "code",
   "execution_count": null,
   "id": "800de841",
   "metadata": {},
   "outputs": [],
   "source": []
  }
 ],
 "metadata": {
  "kernelspec": {
   "display_name": "Python 3 (ipykernel)",
   "language": "python",
   "name": "python3"
  },
  "language_info": {
   "codemirror_mode": {
    "name": "ipython",
    "version": 3
   },
   "file_extension": ".py",
   "mimetype": "text/x-python",
   "name": "python",
   "nbconvert_exporter": "python",
   "pygments_lexer": "ipython3",
   "version": "3.9.13"
  }
 },
 "nbformat": 4,
 "nbformat_minor": 5
}
